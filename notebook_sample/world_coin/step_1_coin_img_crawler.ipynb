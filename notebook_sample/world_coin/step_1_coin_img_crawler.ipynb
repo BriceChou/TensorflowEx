{
 "cells": [
  {
   "cell_type": "markdown",
   "metadata": {},
   "source": [
    "# Crawling coin image database from website\n",
    "\n",
    "### 1. Analyse the webiste content \n",
    " Below as website we can use to download the images:\n",
    "* 1. NumisMaster: http://secure.numismaster.com/ta/numis.jsp\n",
    "* 2. World Coin Gallery: http://www.worldcoingallery.com \n",
    "\n",
    "### 2. Import the necessary python library "
   ]
  },
  {
   "cell_type": "code",
   "execution_count": null,
   "metadata": {},
   "outputs": [],
   "source": [
    "#!/usr/bin/env python3  \n",
    "# -*- coding: utf-8 -*-  \n",
    "\n",
    "import os\n",
    "from requests_html import HTML, HTMLSession\n",
    "import warnings\n",
    "import traceback\n",
    "\n",
    "warnings.filterwarnings('ignore')\n",
    "session = HTMLSession()"
   ]
  },
  {
   "cell_type": "markdown",
   "metadata": {},
   "source": [
    "### 3. define the download file function"
   ]
  },
  {
   "cell_type": "code",
   "execution_count": null,
   "metadata": {},
   "outputs": [],
   "source": [
    "def download(url, filepath, backup_url=None):\n",
    "    if os.path.exists(filepath):\n",
    "        print('This file {} aready existed.'.format(filepath))\n",
    "        return\n",
    "    try:\n",
    "        r = session.get(url, stream=True, timeout=60)\n",
    "        if r.status_code == 200:\n",
    "            r.raise_for_status()\n",
    "            with open(filepath, 'wb') as f:\n",
    "                for chunk in r.iter_content(chunk_size=1024):\n",
    "                    if chunk:  # filter out keep-alive new chunks\n",
    "                        f.write(chunk)\n",
    "                        f.flush()\n",
    "            print('{} has been saved.'.format(filepath))\n",
    "            return filepath\n",
    "        else:\n",
    "            download(backup_url, filepath)\n",
    "            return filepath\n",
    "    except KeyboardInterrupt:\n",
    "        if os.path.exists(filepath):\n",
    "            os.remove(filepath)\n",
    "        raise KeyboardInterrupt\n",
    "    except Exception:\n",
    "        traceback.print_exc()\n",
    "        if os.path.exists(filepath):\n",
    "            os.remove(filepath)"
   ]
  },
  {
   "cell_type": "markdown",
   "metadata": {},
   "source": [
    "### 4. Pasre single country's coin image"
   ]
  },
  {
   "cell_type": "code",
   "execution_count": null,
   "metadata": {},
   "outputs": [],
   "source": [
    "def download_single_country_coin_img(\n",
    "    base_url, backup_url, country_link_name, img_folder_path\n",
    "):\n",
    "    small_img_base_url = '{}countries/'.format(base_url)\n",
    "    big_img_base_url = '{}wcg/img_hr/'.format(backup_url)\n",
    "    country_link = '{}_all'.format(country_link_name)\n",
    "    url = '{}{}.php'.format(small_img_base_url, country_link)\n",
    "    comma = ','\n",
    "    dot = '.'\n",
    "\n",
    "    try:\n",
    "        html = HTML(html=url, url='bunk', default_encoding='utf-8')\n",
    "        img_list = html.find('td > img')\n",
    "        text_list = html.find('img + br')\n",
    "        for (img, text) in zip(img_list, text_list):\n",
    "            src_url = img.attrs.get('src')\n",
    "            img_url = big_img_base_url + src_url\n",
    "            backup_img_url = small_img_base_url + src_url\n",
    "            img_name = text.text.replace(comma, '').replace(dot, '').replace(' ', '_')\n",
    "            img_type = img.attrs.get('src').split('.')[-1]\n",
    "            img_path = '{}/{}.{}'.format(img_folder_path, img_name, img_type)\n",
    "            download(img_url, img_path, backup_img_url)\n",
    "\n",
    "    except KeyError:\n",
    "        raise ValueError(f'Oops! There is no any images and text.')"
   ]
  },
  {
   "cell_type": "markdown",
   "metadata": {},
   "source": [
    "### 5. Get the world country's list and start to download the coin image"
   ]
  },
  {
   "cell_type": "code",
   "execution_count": null,
   "metadata": {
    "scrolled": false
   },
   "outputs": [],
   "source": [
    "base_url = 'http://worldcoingallery.com/'\n",
    "backup_base_url = 'http://worldbanknotegallery.com/'\n",
    "country_list_url = '{}index-EN.htm'.format(base_url)\n",
    "main_folder_name = 'imgs'\n",
    "\n",
    "# Create the image floder to save the image\n",
    "if os.path.exists(main_folder_name) is False:\n",
    "    os.makedirs(main_folder_name)\n",
    "\n",
    "try:\n",
    "    html = HTML(html=country_list_url, url='bunk', default_encoding='utf-8')\n",
    "    country_link_list = html.find('b > a')\n",
    "    for item in country_link_list:\n",
    "        country_link_name = item.attrs.get('href').replace('/', '.').split('.')[-2]\n",
    "        img_folder_path = os.path.join(main_folder_name, country_link_name)\n",
    "        if os.path.exists(img_folder_path) is False:\n",
    "            os.makedirs(img_folder_path)\n",
    "        download_single_country_coin_img(\n",
    "            base_url, backup_base_url, country_link_name, img_folder_path\n",
    "        )\n",
    "\n",
    "except KeyError:\n",
    "    raise ValueError(f'Oops! There is no any country.')"
   ]
  },
  {
   "cell_type": "code",
   "execution_count": null,
   "metadata": {},
   "outputs": [],
   "source": []
  }
 ],
 "metadata": {
  "kernelspec": {
   "display_name": "Python 3",
   "language": "python",
   "name": "python3"
  },
  "language_info": {
   "codemirror_mode": {
    "name": "ipython",
    "version": 3
   },
   "file_extension": ".py",
   "mimetype": "text/x-python",
   "name": "python",
   "nbconvert_exporter": "python",
   "pygments_lexer": "ipython3",
   "version": "3.6.4"
  }
 },
 "nbformat": 4,
 "nbformat_minor": 2
}
