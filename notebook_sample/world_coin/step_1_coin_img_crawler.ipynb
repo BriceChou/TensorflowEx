{
 "cells": [
  {
   "cell_type": "markdown",
   "metadata": {},
   "source": [
    "# Crawling coin image database from website\n",
    "\n",
    "### 1. Analyse the webiste content \n",
    " Below as website we can use to download the images:\n",
    "* 1. NumisMaster: http://secure.numismaster.com/ta/numis.jsp\n",
    "* 2. World Coin Gallery: http://www.worldcoingallery.com \n",
    "\n",
    "### 2. Import the necessary python library "
   ]
  },
  {
   "cell_type": "code",
   "execution_count": null,
   "metadata": {},
   "outputs": [],
   "source": [
    "#!/usr/bin/env python3  \n",
    "# -*- coding: utf-8 -*-  \n",
    "\n",
    "import os\n",
    "from requests_html import HTMLSession\n",
    "from logger import Logger\n",
    "import warnings\n",
    "import traceback\n",
    "\n",
    "warnings.filterwarnings('ignore')\n",
    "session = HTMLSession()\n",
    "\n",
    "with open('debug.log', 'w') as sf:\n",
    "    sf.write('-*-*========== All start to Running ... ==========*-*-\\n')\n",
    "\n",
    "# create log file in current folder\n",
    "log = Logger('debug.log', level='debug')"
   ]
  },
  {
   "cell_type": "markdown",
   "metadata": {},
   "source": [
    "### 3. define the download file function"
   ]
  },
  {
   "cell_type": "code",
   "execution_count": null,
   "metadata": {},
   "outputs": [],
   "source": [
    "def download(url, filepath, backup_url=None):\n",
    "    if os.path.exists(filepath):\n",
    "        log.logger.error('This file {} aready existed.'.format(filepath))\n",
    "        return\n",
    "    try:\n",
    "        r = session.get(url, stream=True, timeout=60)\n",
    "        log.logger.debug('Website URL status code is {}'.format(r.status_code))\n",
    "        if 200 == r.status_code:\n",
    "            log.logger.debug('Start to save file {}'.format(filepath))\n",
    "            with open(filepath, 'wb') as f:\n",
    "                for chunk in r.iter_content(chunk_size=1024):\n",
    "                    # filter out keep-alive new chunks\n",
    "                    if chunk:\n",
    "                        f.write(chunk)\n",
    "                        f.flush()\n",
    "            log.logger.debug('{} saved.'.format(filepath))\n",
    "            return filepath\n",
    "        else:\n",
    "            download(backup_url, filepath)\n",
    "            return filepath\n",
    "    except KeyboardInterrupt:\n",
    "        if os.path.exists(filepath):\n",
    "            os.remove(filepath)\n",
    "        raise KeyboardInterrupt\n",
    "    except Exception:\n",
    "        traceback.print_exc()\n",
    "        if os.path.exists(filepath):\n",
    "            os.remove(filepath)"
   ]
  },
  {
   "cell_type": "markdown",
   "metadata": {},
   "source": [
    "### 4. Pasre single country's coin image"
   ]
  },
  {
   "cell_type": "code",
   "execution_count": null,
   "metadata": {},
   "outputs": [],
   "source": [
    "def download_single_country_coin_img(\n",
    "    base_url, backup_url, country_link_name, img_folder_path\n",
    "):\n",
    "    small_img_base_url = '{}countries/'.format(base_url)\n",
    "    big_img_base_url = '{}wcg/img_hr/'.format(backup_url)\n",
    "    country_link = '{}_all'.format(country_link_name)\n",
    "    url = '{}{}.php'.format(small_img_base_url, country_link)\n",
    "\n",
    "    try:\n",
    "        log.logger.debug('Start to load website {}'.format(url))\n",
    "        r = session.get(url, stream=True, timeout=60)\n",
    "        if 200 == r.status_code:\n",
    "            img_list = r.html.find('td > img')\n",
    "            text_list = r.html.find('img + br')\n",
    "            log.logger.info('image list size is {}'.format(len(img_list)))\n",
    "            for (img, text) in zip(img_list, text_list):\n",
    "                src_url = img.attrs.get('src')\n",
    "                img_url = big_img_base_url + src_url\n",
    "                backup_img_url = small_img_base_url + src_url\n",
    "                img_name = (\n",
    "                    text.text.replace(',', '')\n",
    "                    .replace('.', '')\n",
    "                    .replace('/', 'divided_by')\n",
    "                    .replace(' ', '_')\n",
    "                )\n",
    "                img_type = img.attrs.get('src').split('.')[-1]\n",
    "                img_path = '{}/{}.{}'.format(img_folder_path, img_name, img_type)\n",
    "                log.logger.debug('Start to download image URL: {}'.format(img_url))\n",
    "                download(img_url, img_path, backup_img_url)\n",
    "        else:\n",
    "            log.logger.error('Failed to open URL: {}.\\n'.format(url))\n",
    "    except KeyError:\n",
    "        raise ValueError(f'Oops! There is no any images and text.')"
   ]
  },
  {
   "cell_type": "markdown",
   "metadata": {},
   "source": [
    "### 5. Get the world country's list and start to download the coin image"
   ]
  },
  {
   "cell_type": "code",
   "execution_count": null,
   "metadata": {
    "scrolled": false
   },
   "outputs": [],
   "source": [
    "base_url = 'http://worldcoingallery.com/'\n",
    "backup_base_url = 'http://worldbanknotegallery.com/'\n",
    "country_list_url = '{}index-EN.htm'.format(base_url)\n",
    "main_folder_name = 'imgs'\n",
    "\n",
    "# Create the image floder to save the image\n",
    "if os.path.exists(main_folder_name) is False:\n",
    "    os.makedirs(main_folder_name)\n",
    "\n",
    "try:\n",
    "    r = session.get(country_list_url, stream=True, timeout=60)\n",
    "    if 200 == r.status_code:\n",
    "        country_link_list = r.html.find('b > a')\n",
    "        log.logger.info('country link list size is {}'.format(len(country_link_list)))\n",
    "        for item in country_link_list:\n",
    "            country_link_name = item.attrs.get('href').replace('/', '.').split('.')[-2]\n",
    "            img_folder_path = os.path.join(main_folder_name, country_link_name)\n",
    "            if os.path.exists(img_folder_path) is False:\n",
    "                os.makedirs(img_folder_path)\n",
    "            download_single_country_coin_img(\n",
    "                base_url, backup_base_url, country_link_name, img_folder_path\n",
    "            )\n",
    "    else:\n",
    "        log.logger.error('Failed to open URL: {}'.format(country_list_url))\n",
    "except KeyError:\n",
    "    raise ValueError(f'Oops! There is no any country.')"
   ]
  },
  {
   "cell_type": "code",
   "execution_count": null,
   "metadata": {},
   "outputs": [],
   "source": []
  }
 ],
 "metadata": {
  "kernelspec": {
   "display_name": "Python 3",
   "language": "python",
   "name": "python3"
  },
  "language_info": {
   "codemirror_mode": {
    "name": "ipython",
    "version": 3
   },
   "file_extension": ".py",
   "mimetype": "text/x-python",
   "name": "python",
   "nbconvert_exporter": "python",
   "pygments_lexer": "ipython3",
   "version": "3.6.4"
  }
 },
 "nbformat": 4,
 "nbformat_minor": 2
}
